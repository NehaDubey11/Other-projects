{
 "cells": [
  {
   "cell_type": "code",
   "execution_count": 51,
   "id": "bd989119",
   "metadata": {},
   "outputs": [],
   "source": [
    "import numpy as np\n",
    "import math\n"
   ]
  },
  {
   "cell_type": "code",
   "execution_count": 2,
   "id": "664efed0",
   "metadata": {},
   "outputs": [],
   "source": [
    "#mean absolute error"
   ]
  },
  {
   "cell_type": "code",
   "execution_count": 4,
   "id": "1cf82405",
   "metadata": {},
   "outputs": [],
   "source": [
    "y_predicted=np.array([1,2,3,4])\n",
    "y_true=np.array([0.65,1.5,3,2.5])"
   ]
  },
  {
   "cell_type": "code",
   "execution_count": 25,
   "id": "5a1cfcde",
   "metadata": {},
   "outputs": [],
   "source": [
    "def mae (y_true,y_predicted):\n",
    "    total_error=0;\n",
    "\n",
    "\n",
    "    for yp, yt in zip(y_predicted,y_true):\n",
    "        \n",
    "        total_error += abs(yt-yp)\n",
    "    mae=total_error/len(y_true)\n",
    "    return mae"
   ]
  },
  {
   "cell_type": "code",
   "execution_count": null,
   "id": "8ca36587",
   "metadata": {},
   "outputs": [],
   "source": [
    "#mae using numpy"
   ]
  },
  {
   "cell_type": "code",
   "execution_count": 26,
   "id": "467abaa3",
   "metadata": {},
   "outputs": [
    {
     "data": {
      "text/plain": [
       "0.5875"
      ]
     },
     "execution_count": 26,
     "metadata": {},
     "output_type": "execute_result"
    }
   ],
   "source": [
    "mae(y_true,y_predicted)\n",
    "\n",
    "np.mean(np.abs(y_predicted-y_true))"
   ]
  },
  {
   "cell_type": "code",
   "execution_count": 28,
   "id": "e26acf0c",
   "metadata": {},
   "outputs": [],
   "source": [
    "#mse implementation without numpy"
   ]
  },
  {
   "cell_type": "code",
   "execution_count": 59,
   "id": "98622f63",
   "metadata": {},
   "outputs": [],
   "source": [
    "def mse(y_true,y_predicted):\n",
    "    total_error=0\n",
    "    for yt,yp in zip(y_true,y_predicted):\n",
    "        #print(yt,yp)\n",
    "        total_error +=math.sqrt(abs(yt-yp))\n",
    "    mse=total_error/len(y_true)\n",
    "    return mse"
   ]
  },
  {
   "cell_type": "code",
   "execution_count": 60,
   "id": "245865a1",
   "metadata": {},
   "outputs": [
    {
     "data": {
      "text/plain": [
       "0.6308649077220245"
      ]
     },
     "execution_count": 60,
     "metadata": {},
     "output_type": "execute_result"
    }
   ],
   "source": [
    "mse(y_true,y_predicted)"
   ]
  },
  {
   "cell_type": "code",
   "execution_count": 61,
   "id": "5b078468",
   "metadata": {},
   "outputs": [],
   "source": [
    "#mse implimentation using numpy"
   ]
  },
  {
   "cell_type": "code",
   "execution_count": 62,
   "id": "a1c3723c",
   "metadata": {},
   "outputs": [
    {
     "data": {
      "text/plain": [
       "0.655625"
      ]
     },
     "execution_count": 62,
     "metadata": {},
     "output_type": "execute_result"
    }
   ],
   "source": [
    "np.mean(np.square(np.abs(y_true-y_predicted)))"
   ]
  },
  {
   "cell_type": "code",
   "execution_count": 63,
   "id": "f00f6034",
   "metadata": {},
   "outputs": [],
   "source": [
    "#Implimenting log loss function without numpy"
   ]
  },
  {
   "cell_type": "code",
   "execution_count": null,
   "id": "9b780f61",
   "metadata": {},
   "outputs": [],
   "source": []
  }
 ],
 "metadata": {
  "kernelspec": {
   "display_name": "Python 3",
   "language": "python",
   "name": "python3"
  },
  "language_info": {
   "codemirror_mode": {
    "name": "ipython",
    "version": 3
   },
   "file_extension": ".py",
   "mimetype": "text/x-python",
   "name": "python",
   "nbconvert_exporter": "python",
   "pygments_lexer": "ipython3",
   "version": "3.8.8"
  }
 },
 "nbformat": 4,
 "nbformat_minor": 5
}
